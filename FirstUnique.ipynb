{
  "nbformat": 4,
  "nbformat_minor": 0,
  "metadata": {
    "colab": {
      "provenance": [],
      "authorship_tag": "ABX9TyPLn3Sor3sTHmA/vATequq+",
      "include_colab_link": true
    },
    "kernelspec": {
      "name": "python3",
      "display_name": "Python 3"
    },
    "language_info": {
      "name": "python"
    }
  },
  "cells": [
    {
      "cell_type": "markdown",
      "metadata": {
        "id": "view-in-github",
        "colab_type": "text"
      },
      "source": [
        "<a href=\"https://colab.research.google.com/github/GarreKrishnavamsi/Coding/blob/main/FirstUnique.ipynb\" target=\"_parent\"><img src=\"https://colab.research.google.com/assets/colab-badge.svg\" alt=\"Open In Colab\"/></a>"
      ]
    },
    {
      "cell_type": "code",
      "source": [
        "class Solution {\n",
        "     public int firstUniqChar(String s) {\n",
        "        int ans = Integer.MAX_VALUE;\n",
        "        for(char c='a'; c<='z';c++){\n",
        "            int index = s.indexOf(c);\n",
        "            if(index!=-1&&index==s.lastIndexOf(c)){\n",
        "                ans = Math.min(ans,index);\n",
        "            }\n",
        "        }\n",
        "        return ans==Integer.MAX_VALUE?-1:ans;\n",
        "    }   \n",
        "}"
      ],
      "metadata": {
        "id": "1rz1ljojB9uy"
      },
      "execution_count": null,
      "outputs": []
    }
  ]
}