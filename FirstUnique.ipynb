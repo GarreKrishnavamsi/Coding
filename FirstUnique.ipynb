{
  "nbformat": 4,
  "nbformat_minor": 0,
  "metadata": {
    "colab": {
      "provenance": [],
      "authorship_tag": "ABX9TyPLn3Sor3sTHmA/vATequq+",
      "include_colab_link": true
    },
    "kernelspec": {
      "name": "python3",
      "display_name": "Python 3"
    },
    "language_info": {
      "name": "python"
    }
  },
  "cells": [
    {
      "cell_type": "markdown",
      "metadata": {
        "id": "view-in-github",
        "colab_type": "text"
      },
      "source": [
        "<a href=\"https://colab.research.google.com/github/GarreKrishnavamsi/Coding/blob/main/FirstUnique.ipynb\" target=\"_parent\"><img src=\"https://colab.research.google.com/assets/colab-badge.svg\" alt=\"Open In Colab\"/></a>"
      ]
    },
    {
      "cell_type": "code",
      "execution_count": 1,
      "metadata": {
        "colab": {
          "base_uri": "https://localhost:8080/",
          "height": 130
        },
        "id": "zY50VaVMBKXM",
        "outputId": "ab30b5bc-d723-484f-c27a-631867e7ba5a"
      },
      "outputs": [
        {
          "output_type": "error",
          "ename": "SyntaxError",
          "evalue": "ignored",
          "traceback": [
            "\u001b[0;36m  File \u001b[0;32m\"<ipython-input-1-b4d36e4ea0f7>\"\u001b[0;36m, line \u001b[0;32m1\u001b[0m\n\u001b[0;31m    class Solution {\u001b[0m\n\u001b[0m                   ^\u001b[0m\n\u001b[0;31mSyntaxError\u001b[0m\u001b[0;31m:\u001b[0m invalid syntax\n"
          ]
        }
      ],
      "source": [
        "class Solution {\n",
        "     public int firstUniqChar(String s) {\n",
        "        int ans = Integer.MAX_VALUE;\n",
        "        for(char c='a'; c<='z';c++){\n",
        "            int index = s.indexOf(c);\n",
        "            if(index!=-1&&index==s.lastIndexOf(c)){\n",
        "                ans = Math.min(ans,index);\n",
        "            }\n",
        "        }\n",
        "        return ans==Integer.MAX_VALUE?-1:ans;\n",
        "    }   \n",
        "}"
      ]
    }
  ]
}